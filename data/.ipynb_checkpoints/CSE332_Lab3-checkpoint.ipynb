{
 "cells": [
  {
   "cell_type": "code",
   "execution_count": 2,
   "id": "50439688",
   "metadata": {},
   "outputs": [],
   "source": [
    "import numpy as np\n",
    "import pandas as pd\n",
    "import seaborn as sns\n",
    "from matplotlib import pyplot as plt\n",
    "from datetime import date\n",
    "import scipy.stats as ss\n",
    "\n",
    "filename = \"NYPD_Complaint_Data_Filtered.csv\"\n",
    "data_raw = np.genfromtxt(filename, dtype=None, delimiter=',', skip_header=True, usecols=range(17),filling_values=None, encoding='UTF-8')\n",
    "data = np.empty((11065, 8), dtype=object)\n"
   ]
  },
  {
   "cell_type": "code",
   "execution_count": 3,
   "id": "0c7a2142",
   "metadata": {},
   "outputs": [],
   "source": [
    "age_converter = {'<18': 18.0, '18-24': 22.0, '25-44': 35.0, '45-64': 55, '65+': 65}"
   ]
  },
  {
   "cell_type": "code",
   "execution_count": 4,
   "id": "ebfde09e",
   "metadata": {},
   "outputs": [],
   "source": [
    "### CORRELATION MATRIX DATA PREPARATION\n",
    "\n",
    "for i, row in enumerate(data_raw):\n",
    "    \n",
    "    start_date = [int(i) for i in row[1].split('/')]\n",
    "    end_date = [int(i) for i in row[3].split('/')]\n",
    "    precinct = row[0]\n",
    "    law_cat = row[5]\n",
    "    suspect_age = row[7]\n",
    "    victim_age = row[10]\n",
    "    suspect_sex = 'M' if row[9] == 'M' else 'F'\n",
    "    victim_sex = 'M' if row[12] == 'M' else 'F'\n",
    "    \n",
    "    entry = np.array([precinct,law_cat, str(start_date[1]), str(start_date[0]), suspect_age, suspect_sex, victim_age, victim_sex])\n",
    "    data[i] = entry\n",
    "    \n",
    "np.savetxt(\"NYPD_Complaint_Data_Processed_1.csv\", data, delimiter=\",\",fmt=\"%.18s\", header=\"precinct,law_category,crime_day,crime_month,suspect_age,suspect_sex,victim_age,victim_sex\")    "
   ]
  },
  {
   "cell_type": "code",
   "execution_count": 5,
   "id": "64b503ab",
   "metadata": {},
   "outputs": [],
   "source": [
    "def cramers_v(x, y):\n",
    "    confusion_matrix = pd.crosstab(x,y)\n",
    "    chi2 = ss.chi2_contingency(confusion_matrix)[0]\n",
    "    n = confusion_matrix.sum().sum()\n",
    "    phi2 = chi2/n\n",
    "    r,k = confusion_matrix.shape\n",
    "    phi2corr = max(0, phi2-((k-1)*(r-1))/(n-1))\n",
    "    rcorr = r-((r-1)**2)/(n-1)\n",
    "    kcorr = k-((k-1)**2)/(n-1)\n",
    "    return np.sqrt(phi2corr/min((kcorr-1),(rcorr-1)))\n",
    "\n",
    "def correlation_ratio(categories, measurements):\n",
    "    fcat, _ = pd.factorize(categories)\n",
    "    cat_num = np.max(fcat)+1\n",
    "    y_avg_array = np.zeros(cat_num)\n",
    "    n_array = np.zeros(cat_num)\n",
    "    for i in range(0,cat_num):\n",
    "        cat_measures = measurements[np.argwhere(fcat == i).flatten()]\n",
    "        n_array[i] = len(cat_measures)\n",
    "        y_avg_array[i] = np.average(cat_measures)\n",
    "    y_total_avg = np.sum(np.multiply(y_avg_array,n_array))/np.sum(n_array)\n",
    "    numerator = np.sum(np.multiply(n_array,np.power(np.subtract(y_avg_array,y_total_avg),2)))\n",
    "    denominator = np.sum(np.power(np.subtract(measurements,y_total_avg),2))\n",
    "    if numerator == 0:\n",
    "        eta = 0.0\n",
    "    else:\n",
    "        eta = np.sqrt(numerator/denominator)\n",
    "    return eta"
   ]
  },
  {
   "cell_type": "code",
   "execution_count": 6,
   "id": "a73156c3",
   "metadata": {},
   "outputs": [
    {
     "data": {
      "image/png": "[encoded data removed]",
      "text/plain": [
       "<Figure size 432x288 with 1 Axes>"
      ]
     },
     "metadata": {
      "needs_background": "light"
     },
     "output_type": "display_data"
    }
   ],
   "source": [
    "size = entry.size\n",
    "matrix = np.ones((size,size))\n",
    "labels = [\"precinct\",\"crime_law\",\"crime_day\",\"crime_month\",\"suspect_age\",\"suspect_sex\",\"victim_age\",\"victim_sex\"]\n",
    "\n",
    "for i in range(0, size):\n",
    "    for j in range(i+1, size):\n",
    "        x = data[:, i].reshape(data.shape[0])\n",
    "        y = data[:, j].reshape(data.shape[0])\n",
    "        correlation = cramers_v(x, y)\n",
    "        matrix[i][j] = correlation\n",
    "        matrix[j][i] = correlation\n",
    "\n",
    "plt.imshow(matrix, cmap='YlGn')\n",
    "plt.show()\n",
    "\n",
    "output = np.empty((size*size, 3), dtype='object')\n",
    "for i, row in enumerate(output):\n",
    "    row[0] = labels[i//8]\n",
    "    row[1] = labels[i%8]\n",
    "    row[2] = str(int(matrix[i//8][i%8]*100))\n",
    "\n",
    "np.savetxt(\"correlation-matrix-data.csv\", output, delimiter=\",\",fmt=\"%.15s\", header=\"attribute, compared, correlation\")\n"
   ]
  },
  {
   "cell_type": "code",
   "execution_count": 79,
   "id": "c060f449",
   "metadata": {},
   "outputs": [
    {
     "name": "stdout",
     "output_type": "stream",
     "text": [
      "1 _ 18-24\n",
      "1 _ 25-44\n",
      "1 _ 45-64\n",
      "1 _ 65+\n",
      "1 _ <18\n",
      "10 _ 18-24\n",
      "10 _ 25-44\n",
      "10 _ 45-64\n",
      "10 _ 65+\n",
      "10 _ <18\n",
      "11 _ 18-24\n",
      "11 _ 25-44\n",
      "11 _ 45-64\n",
      "11 _ 65+\n",
      "11 _ <18\n",
      "12 _ 18-24\n",
      "12 _ 25-44\n",
      "12 _ 45-64\n",
      "12 _ 65+\n",
      "12 _ <18\n",
      "2 _ 18-24\n",
      "2 _ 25-44\n",
      "2 _ 45-64\n",
      "2 _ 65+\n",
      "2 _ <18\n",
      "3 _ 18-24\n",
      "3 _ 25-44\n",
      "3 _ 45-64\n",
      "3 _ 65+\n",
      "3 _ <18\n",
      "4 _ 18-24\n",
      "4 _ 25-44\n",
      "4 _ 45-64\n",
      "4 _ 65+\n",
      "4 _ <18\n",
      "5 _ 18-24\n",
      "5 _ 25-44\n",
      "5 _ 45-64\n",
      "5 _ 65+\n",
      "5 _ <18\n",
      "6 _ 18-24\n",
      "6 _ 25-44\n",
      "6 _ 45-64\n",
      "6 _ 65+\n",
      "6 _ <18\n",
      "7 _ 18-24\n",
      "7 _ 25-44\n",
      "7 _ 45-64\n",
      "7 _ 65+\n",
      "7 _ <18\n",
      "8 _ 18-24\n",
      "8 _ 25-44\n",
      "8 _ 45-64\n",
      "8 _ 65+\n",
      "8 _ <18\n",
      "9 _ 18-24\n",
      "9 _ 25-44\n",
      "9 _ 45-64\n",
      "9 _ 65+\n",
      "9 _ <18\n"
     ]
    }
   ],
   "source": [
    "## SCATTER PLOT MATRIX DATA PREPARATION\n",
    "import itertools\n",
    "indexes = [6, 1, 4, 0, 7]\n",
    "victim_age = np.unique(data[:,6])\n",
    "crime_law = np.unique(data[:,1])\n",
    "suspect_age = np.unique(data[:,4])\n",
    "precinct = np.unique(data[:,0])\n",
    "victim_sex = np.unique(data[:,7])\n",
    "\n",
    "\n",
    "victim_age__crime\n",
    "for r in itertools.product(victim_age, crime_law): print(r[0] +\" _ \"+ r[1])\n",
    "\n",
    "\n"
   ]
  },
  {
   "cell_type": "code",
   "execution_count": 8,
   "id": "e8476b85",
   "metadata": {},
   "outputs": [
    {
     "name": "stdout",
     "output_type": "stream",
     "text": [
      "['5' 'FELONY' '28' '3' '25-44' 'M' '25-44' 'F']\n",
      "['25-44' '25-44' 'M' 'F' 'FELONY' '28' '3' '5']\n"
     ]
    }
   ],
   "source": [
    "## PARALLEL COORDINATES DISPLAY\n",
    "print(data[1])\n",
    "data[:, [0,1,2,3,4,5,6,7]] = data[:, [4,6,5,7,1,2,3,0]]\n",
    "print(data[1])\n",
    "np.savetxt(\"parallel-coordinates-data.csv\", data, delimiter=\",\",fmt=\"%.18s\", header=\"suspect_age,victim_age,suspect_sex,victim_sex,crime_law,day_of_month,month,precinct\")   "
   ]
  },
  {
   "cell_type": "code",
   "execution_count": 9,
   "id": "372a4676",
   "metadata": {},
   "outputs": [],
   "source": [
    "## PCA Plot\n",
    "from sklearn.decomposition import PCA\n",
    "from sklearn.preprocessing import StandardScaler\n",
    "age_converter = {'<18': 1.0, '18-24': 2.0, '25-44': 3.0, '45-64': 4.0, '65+': 5.0}\n",
    "law_converter = {\"VIOLATION\": 1.0, \"MISDEMEANOR\": 2.0, \"FELONY\": 3.0}\n",
    "isMale = {\"M\": 1.0, \"F\": 0.0}\n",
    "isFemale = {\"M\": 0.0, \"F\": 1.0}\n",
    "\n",
    "dataframe = np.zeros((11065, 10),dtype='float')\n",
    "\n",
    "for i,row in enumerate(data):\n",
    "    entry = np.array([age_converter[row[0]],age_converter[row[1]],isMale[row[2]],isFemale[row[2]],isMale[row[3]],isFemale[row[3]],law_converter[row[4]], float(row[5]),float(row[6]), float(row[7])])\n",
    "    dataframe[i] = entry\n",
    "    \n",
    "np.savetxt(\"pca-plot-data-unprocessed.csv\", dataframe, delimiter=\",\",fmt='%.2f', header=\"s_age,v_age,s_male,s_female,v_male,v_female,crime_law,day,month,precinct\")\n"
   ]
  },
  {
   "cell_type": "code",
   "execution_count": 81,
   "id": "2ee62b7f",
   "metadata": {},
   "outputs": [],
   "source": [
    "df = pd.read_csv('pca-plot-data-unprocessed.csv')\n",
    "headers = ['s_age','v_age','s_male','s_female','v_male','v_female','crime_law','day','month','precinct']\n",
    "x = df.loc[:, headers].values\n",
    "x = StandardScaler().fit_transform(x)\n",
    "pd.DataFrame(data = x, columns = headers).head()\n",
    "\n",
    "pca = PCA(n_components=2)\n",
    "principalComponents = pca.fit_transform(x)\n",
    "principalDf = pd.DataFrame(data = principalComponents\n",
    "             , columns = ['PC1', 'PC2'])\n",
    "\n",
    "np.set_printoptions(precision=4,suppress=True)\n",
    "\n",
    "vectors = np.transpose(pca.components_)\n",
    "vectors = vectors*100\n",
    "vectors[8] = vectors[8]*100\n",
    "indexes = [0,1,7]\n",
    "for i in indexes:\n",
    "    vectors[i] = vectors[i]*10\n",
    "    \n",
    "labels = [['s_age'],['v_age'],['s_male'],['s_female'],['v_male'],['v_female'],['crime_law'],['day'],['month'],['precinct']]\n",
    "vectors = np.concatenate((vectors,labels),axis=1)\n",
    "np.savetxt(\"../processed/biplot-data.csv\", vectors, delimiter=\",\",fmt='%.15s', header=\"x,y,attr\")\n",
    "\n",
    "# print(pca.explained_variance_)\n",
    "# print(pca.explained_variance_ratio_)\n",
    "\n",
    "# print(principalDf.max())\n",
    "# print(principalDf.min())\n",
    "# principalDf.to_csv('pca-plot-data.csv', sep=',', encoding='utf-8',index=False)\n",
    "\n"
   ]
  },
  {
   "cell_type": "code",
   "execution_count": 47,
   "id": "5b68bc01",
   "metadata": {},
   "outputs": [
    {
     "name": "stdout",
     "output_type": "stream",
     "text": [
      "-20.878132929362106\n",
      "24.32529973551488\n",
      "-23.72806248648023\n",
      "20.435747917028838\n"
     ]
    }
   ],
   "source": [
    "### MDS Display Euclidean Distance\n",
    "from sklearn.manifold import MDS\n",
    "mds = MDS(random_state=0)\n",
    "np.random.shuffle(dataframe)\n",
    "X = dataframe[:2000,:]\n",
    "X_transform = mds.fit_transform(X)\n",
    "print(np.amin(X_transform[:,0]))\n",
    "print(np.amax(X_transform[:,0]))\n",
    "print(np.amin(X_transform[:,1]))\n",
    "print(np.amax(X_transform[:,1]))\n",
    "# np.savetxt(\"../processed/mds-display-euclidean-data.csv\", X_transform, delimiter=\",\",fmt='%.2f', header=\"x,y\")"
   ]
  },
  {
   "cell_type": "code",
   "execution_count": 75,
   "id": "8237d6fb",
   "metadata": {},
   "outputs": [
    {
     "name": "stdout",
     "output_type": "stream",
     "text": [
      "[['-0.40574514980347165' '0.4542786600173975' 'precinct']\n",
      " ['0.1808779969944533' '0.6178903566560587' 'crime_law']\n",
      " ['0.7655477781347767' '-0.2289888193703256' 'crime_day']\n",
      " ['-0.5242422631897821' '-0.13607805157452088' 'crime_month']\n",
      " ['0.3850532616108182' '0.1410208710139011' 'suspect_age']\n",
      " ['-0.08313238713572182' '-0.004584939255510845' 'suspect_sex']\n",
      " ['-0.6060558968863339' '-0.3999833254877666' 'victim_age']\n",
      " ['0.287696660275261' '-0.4435547519992337' 'victim_sex']]\n"
     ]
    }
   ],
   "source": [
    "### MDS Display Correlation Distance\n",
    "\n",
    "temp = np.ones(matrix.shape)\n",
    "X = np.subtract(matrix, temp)\n",
    "mds = MDS(dissimilarity='precomputed', random_state=0)\n",
    "X_transform = mds.fit_transform(X)\n",
    "labels = np.array([[\"precinct\"],[\"crime_law\"],[\"crime_day\"],[\"crime_month\"],[\"suspect_age\"],[\"suspect_sex\"],[\"victim_age\"],[\"victim_sex\"]])\n",
    "X_transform = np.concatenate((X_transform,labels),axis=1)\n",
    "print(X_transform)\n",
    "np.savetxt(\"../processed/mds-display-correlation-data.csv\", X_transform, delimiter=\",\",fmt='%.15s',header='x,y,attr')"
   ]
  },
  {
   "cell_type": "code",
   "execution_count": 37,
   "id": "d55178cb",
   "metadata": {},
   "outputs": [
    {
     "ename": "ValueError",
     "evalue": "all the input array dimensions for the concatenation axis must match exactly, but along dimension 0, the array at index 0 has size 10 and the array at index 1 has size 2",
     "output_type": "error",
     "traceback": [
      "\u001b[0;31m---------------------------------------------------------------------------\u001b[0m",
      "\u001b[0;31mValueError\u001b[0m                                Traceback (most recent call last)",
      "\u001b[0;32m<ipython-input-37-79e907f68fb9>\u001b[0m in \u001b[0;36m<module>\u001b[0;34m\u001b[0m\n\u001b[1;32m      4\u001b[0m \u001b[0marray\u001b[0m \u001b[0;34m=\u001b[0m \u001b[0marray\u001b[0m\u001b[0;34m.\u001b[0m\u001b[0mreshape\u001b[0m\u001b[0;34m(\u001b[0m\u001b[0;34m(\u001b[0m\u001b[0marray\u001b[0m\u001b[0;34m.\u001b[0m\u001b[0msize\u001b[0m\u001b[0;34m,\u001b[0m \u001b[0;36m1\u001b[0m\u001b[0;34m)\u001b[0m\u001b[0;34m)\u001b[0m\u001b[0;34m\u001b[0m\u001b[0;34m\u001b[0m\u001b[0m\n\u001b[1;32m      5\u001b[0m \u001b[0mcolumns\u001b[0m \u001b[0;34m=\u001b[0m \u001b[0mcolumns\u001b[0m\u001b[0;34m.\u001b[0m\u001b[0mreshape\u001b[0m\u001b[0;34m(\u001b[0m\u001b[0;34m(\u001b[0m\u001b[0mcolumns\u001b[0m\u001b[0;34m.\u001b[0m\u001b[0msize\u001b[0m\u001b[0;34m,\u001b[0m \u001b[0;36m1\u001b[0m\u001b[0;34m)\u001b[0m\u001b[0;34m)\u001b[0m\u001b[0;34m\u001b[0m\u001b[0;34m\u001b[0m\u001b[0m\n\u001b[0;32m----> 6\u001b[0;31m \u001b[0mscree_data\u001b[0m \u001b[0;34m=\u001b[0m \u001b[0mnp\u001b[0m\u001b[0;34m.\u001b[0m\u001b[0mconcatenate\u001b[0m\u001b[0;34m(\u001b[0m\u001b[0;34m(\u001b[0m\u001b[0mcolumns\u001b[0m\u001b[0;34m,\u001b[0m \u001b[0marray\u001b[0m\u001b[0;34m)\u001b[0m\u001b[0;34m,\u001b[0m \u001b[0maxis\u001b[0m\u001b[0;34m=\u001b[0m\u001b[0;36m1\u001b[0m\u001b[0;34m)\u001b[0m\u001b[0;34m\u001b[0m\u001b[0;34m\u001b[0m\u001b[0m\n\u001b[0m\u001b[1;32m      7\u001b[0m \u001b[0;34m\u001b[0m\u001b[0m\n\u001b[1;32m      8\u001b[0m \u001b[0mnp\u001b[0m\u001b[0;34m.\u001b[0m\u001b[0msavetxt\u001b[0m\u001b[0;34m(\u001b[0m\u001b[0;34m\"scree-plot-data.csv\"\u001b[0m\u001b[0;34m,\u001b[0m \u001b[0mscree_data\u001b[0m\u001b[0;34m,\u001b[0m \u001b[0mdelimiter\u001b[0m\u001b[0;34m=\u001b[0m\u001b[0;34m\",\"\u001b[0m\u001b[0;34m,\u001b[0m\u001b[0mfmt\u001b[0m\u001b[0;34m=\u001b[0m\u001b[0;34m'%.10s'\u001b[0m\u001b[0;34m,\u001b[0m\u001b[0mheader\u001b[0m\u001b[0;34m=\u001b[0m\u001b[0;34m'PC,variance'\u001b[0m\u001b[0;34m)\u001b[0m\u001b[0;34m\u001b[0m\u001b[0;34m\u001b[0m\u001b[0m\n",
      "\u001b[0;32m<__array_function__ internals>\u001b[0m in \u001b[0;36mconcatenate\u001b[0;34m(*args, **kwargs)\u001b[0m\n",
      "\u001b[0;31mValueError\u001b[0m: all the input array dimensions for the concatenation axis must match exactly, but along dimension 0, the array at index 0 has size 10 and the array at index 1 has size 2"
     ]
    }
   ],
   "source": [
    "### SCREEPLOT FOR PCA\n",
    "array = np.array([\"{:.2f}\".format(x * 100) for x in pca.explained_variance_ratio_])\n",
    "columns = np.array(['PC1', 'PC2', 'PC3', 'PC4','PC5','PC6','PC7','PC8','PC9','PC10'])\n",
    "array = array.reshape((array.size, 1))\n",
    "columns = columns.reshape((columns.size, 1))\n",
    "scree_data = np.concatenate((columns, array), axis=1)\n",
    "\n",
    "np.savetxt(\"scree-plot-data.csv\", scree_data, delimiter=\",\",fmt='%.10s',header='PC,variance')\n"
   ]
  },
  {
   "cell_type": "code",
   "execution_count": null,
   "id": "1a09f254",
   "metadata": {},
   "outputs": [],
   "source": []
  }
 ],
 "metadata": {
  "kernelspec": {
   "display_name": "Python 3",
   "language": "python",
   "name": "python3"
  },
  "language_info": {
   "codemirror_mode": {
    "name": "ipython",
    "version": 3
   },
   "file_extension": ".py",
   "mimetype": "text/x-python",
   "name": "python",
   "nbconvert_exporter": "python",
   "pygments_lexer": "ipython3",
   "version": "3.8.8"
  }
 },
 "nbformat": 4,
 "nbformat_minor": 5
}
