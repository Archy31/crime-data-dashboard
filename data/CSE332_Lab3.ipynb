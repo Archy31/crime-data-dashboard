{
 "cells": [
  {
   "cell_type": "markdown",
   "id": "b6145d20",
   "metadata": {},
   "source": [
    "# CSE332 - Introduction to Visualization\n",
    "\n",
    "## Lab 3 Report by Zhanarbek Osmonaliev\n",
    "This lab aims to display more advanced visualization techniques, accompanied by more complex data analysis.\n",
    "The notebook provides general information about each visualization and shallow breakdown of the algorithmic process."
   ]
  },
  {
   "cell_type": "markdown",
   "id": "650f4b0e",
   "metadata": {},
   "source": [
    "### 1. Load the dataset and necessary libraries.\n",
    "`data` will be used to hold our dataset variables"
   ]
  },
  {
   "cell_type": "code",
   "execution_count": 1,
   "id": "50439688",
   "metadata": {},
   "outputs": [],
   "source": [
    "import numpy as np\n",
    "import pandas as pd\n",
    "import seaborn as sns\n",
    "from matplotlib import pyplot as plt\n",
    "from datetime import date\n",
    "import scipy.stats as ss\n",
    "\n",
    "filename = \"NYPD_Complaint_Data_Filtered.csv\"\n",
    "data_raw = np.genfromtxt(filename, dtype=None, delimiter=',', skip_header=True, usecols=range(17),filling_values=None, encoding='UTF-8')\n",
    "data = np.empty((11065, 8), dtype=object)\n"
   ]
  },
  {
   "cell_type": "code",
   "execution_count": 2,
   "id": "0c7a2142",
   "metadata": {},
   "outputs": [],
   "source": [
    "age_converter = {'<18': 18.0, '18-24': 22.0, '25-44': 35.0, '45-64': 55, '65+': 65}"
   ]
  },
  {
   "cell_type": "markdown",
   "id": "fd42c449",
   "metadata": {},
   "source": [
    "### 2. Prepare the data\n",
    "Only necessary attributes will be loaded into `data`. They are 8 attributes in total."
   ]
  },
  {
   "cell_type": "code",
   "execution_count": 3,
   "id": "ebfde09e",
   "metadata": {},
   "outputs": [],
   "source": [
    "for i, row in enumerate(data_raw):\n",
    "    \n",
    "    start_date = [int(i) for i in row[1].split('/')]\n",
    "    end_date = [int(i) for i in row[3].split('/')]\n",
    "    precinct = row[0]\n",
    "    law_cat = row[5]\n",
    "    suspect_age = row[7]\n",
    "    victim_age = row[10]\n",
    "    suspect_sex = 'M' if row[9] == 'M' else 'F'\n",
    "    victim_sex = 'M' if row[12] == 'M' else 'F'\n",
    "    \n",
    "    entry = np.array([precinct,law_cat, str(start_date[1]), str(start_date[0]), suspect_age, suspect_sex, victim_age, victim_sex])\n",
    "    data[i] = entry\n",
    "    \n",
    "# np.savetxt(\"NYPD_Complaint_Data_Processed_1.csv\", data, delimiter=\",\",fmt=\"%.18s\", header=\"precinct,law_category,crime_day,crime_month,suspect_age,suspect_sex,victim_age,victim_sex\")    "
   ]
  },
  {
   "cell_type": "markdown",
   "id": "8c5f4b9b",
   "metadata": {},
   "source": [
    "### 3. Correlation Matrix\n",
    "Since all my attributes are categorical (nominal), I used a correlation formula different from Pearson's, that is\n",
    "Cramer's V formula. The difference is that the ratio will be in range of [0,1]."
   ]
  },
  {
   "cell_type": "code",
   "execution_count": 4,
   "id": "64b503ab",
   "metadata": {},
   "outputs": [],
   "source": [
    "def cramers_v(x, y):\n",
    "    confusion_matrix = pd.crosstab(x,y)\n",
    "    chi2 = ss.chi2_contingency(confusion_matrix)[0]\n",
    "    n = confusion_matrix.sum().sum()\n",
    "    phi2 = chi2/n\n",
    "    r,k = confusion_matrix.shape\n",
    "    phi2corr = max(0, phi2-((k-1)*(r-1))/(n-1))\n",
    "    rcorr = r-((r-1)**2)/(n-1)\n",
    "    kcorr = k-((k-1)**2)/(n-1)\n",
    "    return np.sqrt(phi2corr/min((kcorr-1),(rcorr-1)))\n",
    "\n",
    "def correlation_ratio(categories, measurements):\n",
    "    fcat, _ = pd.factorize(categories)\n",
    "    cat_num = np.max(fcat)+1\n",
    "    y_avg_array = np.zeros(cat_num)\n",
    "    n_array = np.zeros(cat_num)\n",
    "    for i in range(0,cat_num):\n",
    "        cat_measures = measurements[np.argwhere(fcat == i).flatten()]\n",
    "        n_array[i] = len(cat_measures)\n",
    "        y_avg_array[i] = np.average(cat_measures)\n",
    "    y_total_avg = np.sum(np.multiply(y_avg_array,n_array))/np.sum(n_array)\n",
    "    numerator = np.sum(np.multiply(n_array,np.power(np.subtract(y_avg_array,y_total_avg),2)))\n",
    "    denominator = np.sum(np.power(np.subtract(measurements,y_total_avg),2))\n",
    "    if numerator == 0:\n",
    "        eta = 0.0\n",
    "    else:\n",
    "        eta = np.sqrt(numerator/denominator)\n",
    "    return eta"
   ]
  },
  {
   "cell_type": "markdown",
   "id": "f0f4f549",
   "metadata": {},
   "source": [
    "Once the necessary functions are initialized, we proceed to calculation process. Since the loaded data is in the\n",
    "`String` form, we must encode it accordingly, be in just ordinal encoding or one-hot encoding."
   ]
  },
  {
   "cell_type": "code",
   "execution_count": 5,
   "id": "a73156c3",
   "metadata": {},
   "outputs": [
    {
     "data": {
      "image/png": "[encoded data removed]",
      "text/plain": [
       "<Figure size 432x288 with 1 Axes>"
      ]
     },
     "metadata": {
      "needs_background": "light"
     },
     "output_type": "display_data"
    }
   ],
   "source": [
    "size = entry.size\n",
    "matrix = np.ones((size,size))\n",
    "labels = [\"precinct\",\"crime_law\",\"crime_day\",\"crime_month\",\"suspect_age\",\"suspect_sex\",\"victim_age\",\"victim_sex\"]\n",
    "\n",
    "for i in range(0, size):\n",
    "    for j in range(i+1, size):\n",
    "        x = data[:, i].reshape(data.shape[0])\n",
    "        y = data[:, j].reshape(data.shape[0])\n",
    "        correlation = cramers_v(x, y)\n",
    "        matrix[i][j] = correlation\n",
    "        matrix[j][i] = correlation\n",
    "\n",
    "plt.imshow(matrix, cmap='YlGn')\n",
    "plt.show()\n",
    "\n",
    "output = np.empty((size*size, 3), dtype='object')\n",
    "for i, row in enumerate(output):\n",
    "    row[0] = labels[i//8]\n",
    "    row[1] = labels[i%8]\n",
    "    row[2] = str(int(matrix[i//8][i%8]*100))\n",
    "\n",
    "# np.savetxt(\"correlation-matrix-data.csv\", output, delimiter=\",\",fmt=\"%.15s\", header=\"attribute, compared, correlation\")\n"
   ]
  },
  {
   "cell_type": "markdown",
   "id": "d4e5874e",
   "metadata": {},
   "source": [
    "### 4. Parallel Coordinates Display\n",
    "Parallel coordinates is a visualization technique used to plot individual data elements across many performance measures. Each of the measures corresponds to a vertical axis and each data element is displayed as a series of connected points along the measure/axes.  \n",
    "\n",
    "Since the data has already been encoded, we just save it as it is. Further manipulations will be made in D3.JS."
   ]
  },
  {
   "cell_type": "code",
   "execution_count": 6,
   "id": "e8476b85",
   "metadata": {},
   "outputs": [
    {
     "name": "stdout",
     "output_type": "stream",
     "text": [
      "['5' 'FELONY' '28' '3' '25-44' 'M' '25-44' 'F']\n",
      "['25-44' '25-44' 'M' 'F' 'FELONY' '28' '3' '5']\n"
     ]
    }
   ],
   "source": [
    "## PARALLEL COORDINATES DISPLAY\n",
    "print(data[1])\n",
    "data[:, [0,1,2,3,4,5,6,7]] = data[:, [4,6,5,7,1,2,3,0]]\n",
    "print(data[1])\n",
    "# np.savetxt(\"parallel-coordinates-data.csv\", data, delimiter=\",\",fmt=\"%.18s\", header=\"suspect_age,victim_age,suspect_sex,victim_sex,crime_law,day_of_month,month,precinct\")   "
   ]
  },
  {
   "cell_type": "markdown",
   "id": "2abda0fa",
   "metadata": {},
   "source": [
    "### 5. PCA Plot and Scree Plot\n",
    "Principal component analysis (PCA) is a technique for reducing the dimensionality of such datasets, increasing interpretability but at the same time minimizing information loss. It does so by creating new uncorrelated variables that successively maximize variance.\n",
    "\n",
    "I utilized external libraries to compute principal components of the dataset."
   ]
  },
  {
   "cell_type": "code",
   "execution_count": 7,
   "id": "372a4676",
   "metadata": {},
   "outputs": [],
   "source": [
    "## PCA Plot\n",
    "from sklearn.decomposition import PCA\n",
    "from sklearn.preprocessing import StandardScaler\n",
    "age_converter = {'<18': 1.0, '18-24': 2.0, '25-44': 3.0, '45-64': 4.0, '65+': 5.0}\n",
    "law_converter = {\"VIOLATION\": 1.0, \"MISDEMEANOR\": 2.0, \"FELONY\": 3.0}\n",
    "isMale = {\"M\": 1.0, \"F\": 0.0}\n",
    "isFemale = {\"M\": 0.0, \"F\": 1.0}\n",
    "\n",
    "dataframe = np.zeros((11065, 10),dtype='float')\n",
    "\n",
    "for i,row in enumerate(data):\n",
    "    entry = np.array([age_converter[row[0]],age_converter[row[1]],isMale[row[2]],isFemale[row[2]],isMale[row[3]],isFemale[row[3]],law_converter[row[4]], float(row[5]),float(row[6]), float(row[7])])\n",
    "    dataframe[i] = entry\n",
    "    \n",
    "# np.savetxt(\"pca-plot-data-unprocessed.csv\", dataframe, delimiter=\",\",fmt='%.2f', header=\"s_age,v_age,s_male,s_female,v_male,v_female,crime_law,day,month,precinct\")\n"
   ]
  },
  {
   "cell_type": "code",
   "execution_count": 8,
   "id": "2ee62b7f",
   "metadata": {},
   "outputs": [
    {
     "name": "stdout",
     "output_type": "stream",
     "text": [
      "[['-29.72277285668492' '-8.32033651991512' 's_age']\n",
      " ['-98.37488168123681' '94.4134719946608' 'v_age']\n",
      " ['-39.86650443015714' '-57.45113086643988' 's_male']\n",
      " ['39.86650443015718' '57.451130866439904' 's_female']\n",
      " ['-56.28747480496157' '40.48444421004076' 'v_male']\n",
      " ['56.28747480496159' '-40.48444421004076' 'v_female']\n",
      " ['-15.362035459224032' '-4.746125199646702' 'crime_law']\n",
      " ['-22.676011069721014' '26.520653978792723' 'day']\n",
      " ['42.59378603847875' '-116.60563997495952' 'month']\n",
      " ['11.7404357751136' '0.06722046502712128' 'precinct']]\n",
      "[2.062  2.0057]\n"
     ]
    }
   ],
   "source": [
    "df = pd.read_csv('pca-plot-data-unprocessed.csv')\n",
    "headers = ['s_age','v_age','s_male','s_female','v_male','v_female','crime_law','day','month','precinct']\n",
    "x = df.loc[:, headers].values\n",
    "x = StandardScaler().fit_transform(x)\n",
    "pd.DataFrame(data = x, columns = headers).head()\n",
    "\n",
    "pca = PCA(n_components=2)\n",
    "principalComponents = pca.fit_transform(x)\n",
    "principalDf = pd.DataFrame(data = principalComponents\n",
    "             , columns = ['PC1', 'PC2'])\n",
    "\n",
    "np.set_printoptions(precision=4,suppress=True)\n",
    "\n",
    "vectors = np.transpose(pca.components_)\n",
    "vectors = vectors*100\n",
    "vectors[8] = vectors[8]*100\n",
    "indexes = [0,1,7]\n",
    "for i in indexes:\n",
    "    vectors[i] = vectors[i]*10\n",
    "    \n",
    "labels = [['s_age'],['v_age'],['s_male'],['s_female'],['v_male'],['v_female'],['crime_law'],['day'],['month'],['precinct']]\n",
    "vectors = np.concatenate((vectors,labels),axis=1)\n",
    "\n",
    "print(vectors)\n",
    "print(pca.explained_variance_)\n",
    "\n",
    "# np.savetxt(\"../processed/biplot-data.csv\", vectors, delimiter=\",\",fmt='%.15s', header=\"x,y,attr\")\n",
    "# principalDf.to_csv('pca-plot-data.csv', sep=',', encoding='utf-8',index=False)"
   ]
  },
  {
   "cell_type": "markdown",
   "id": "d8526575",
   "metadata": {},
   "source": [
    "### 6. MDS Display (Euclidean Distance)\n",
    "MDS is a non-linear technique for embedding data in a lower-dimensional space. t maps points residing in a higher-dimensional space to a lower-dimensional space while preserving the distances between those points as much as possible.\n",
    "\n",
    "I used an external library to compute the MDS. The dataset was reduced to 2,000 datapoints from 11,065 points, as\n",
    "it was tedious to calculate MDS for high number of vectors.\n"
   ]
  },
  {
   "cell_type": "code",
   "execution_count": 9,
   "id": "8a07efc6",
   "metadata": {},
   "outputs": [
    {
     "name": "stdout",
     "output_type": "stream",
     "text": [
      "-20.609676601424084\n",
      "23.44241954398675\n",
      "-24.300072980795303\n",
      "19.820463211477822\n"
     ]
    }
   ],
   "source": [
    "### MDS Display Euclidean Distance\n",
    "from sklearn.manifold import MDS\n",
    "mds = MDS(random_state=0)\n",
    "np.random.shuffle(dataframe)\n",
    "X = dataframe[:2000,:]\n",
    "X_transform = mds.fit_transform(X)\n",
    "print(np.amin(X_transform[:,0]))\n",
    "print(np.amax(X_transform[:,0]))\n",
    "print(np.amin(X_transform[:,1]))\n",
    "print(np.amax(X_transform[:,1]))\n",
    "# np.savetxt(\"mds-display-euclidean-data.csv\", X_transform, delimiter=\",\",fmt='%.2f', header=\"x,y\")"
   ]
  },
  {
   "cell_type": "markdown",
   "id": "e37cc99d",
   "metadata": {},
   "source": [
    "### 6. MDS Display (1 - Correlation)\n",
    "MDS is a non-linear technique for embedding data in a lower-dimensional space. t maps points residing in a higher-dimensional space to a lower-dimensional space while preserving the distances between those points as much as possible.\n",
    "\n",
    "Similarly, I used an external library to compute the MDS. The dataset was reduced to 2,000 datapoints from 11,065 points, as\n",
    "it was tedious to calculate MDS for high number of vectors."
   ]
  },
  {
   "cell_type": "code",
   "execution_count": 10,
   "id": "18344ec2",
   "metadata": {},
   "outputs": [
    {
     "name": "stdout",
     "output_type": "stream",
     "text": [
      "[['-0.40574514980347165' '0.4542786600173975' 'precinct']\n",
      " ['0.1808779969944533' '0.6178903566560587' 'crime_law']\n",
      " ['0.7655477781347767' '-0.2289888193703256' 'crime_day']\n",
      " ['-0.5242422631897821' '-0.13607805157452088' 'crime_month']\n",
      " ['0.3850532616108182' '0.1410208710139011' 'suspect_age']\n",
      " ['-0.08313238713572182' '-0.004584939255510845' 'suspect_sex']\n",
      " ['-0.6060558968863339' '-0.3999833254877666' 'victim_age']\n",
      " ['0.287696660275261' '-0.4435547519992337' 'victim_sex']]\n"
     ]
    }
   ],
   "source": [
    "### MDS Display Correlation Distance\n",
    "\n",
    "temp = np.ones(matrix.shape)\n",
    "X = np.subtract(matrix, temp)\n",
    "mds = MDS(dissimilarity='precomputed', random_state=0)\n",
    "X_transform = mds.fit_transform(X)\n",
    "labels = np.array([[\"precinct\"],[\"crime_law\"],[\"crime_day\"],[\"crime_month\"],[\"suspect_age\"],[\"suspect_sex\"],[\"victim_age\"],[\"victim_sex\"]])\n",
    "X_transform = np.concatenate((X_transform,labels),axis=1)\n",
    "print(X_transform)\n",
    "np.savetxt(\"mds-display-correlation-data.csv\", X_transform, delimiter=\",\",fmt='%.15s',header='x,y,attr')"
   ]
  },
  {
   "cell_type": "markdown",
   "id": "2ace7f67",
   "metadata": {},
   "source": [
    "### Screeplot for PCA\n",
    "Screeplot data was obtained by calculating top 10 eigenvectors and deriving their related variance."
   ]
  },
  {
   "cell_type": "code",
   "execution_count": 11,
   "id": "d55178cb",
   "metadata": {},
   "outputs": [],
   "source": [
    "### SCREEPLOT FOR PCA\n",
    "pca = PCA(n_components=10)\n",
    "principalComponents = pca.fit_transform(x)\n",
    "principalDf = pd.DataFrame(data = principalComponents\n",
    "             , columns = ['PC1', 'PC2','PC3', 'PC4','PC5','PC6','PC7','PC8','PC9','PC10'])\n",
    "\n",
    "array = np.array([\"{:.2f}\".format(x * 100) for x in pca.explained_variance_ratio_])\n",
    "columns = np.array(['PC1', 'PC2', 'PC3', 'PC4','PC5','PC6','PC7','PC8','PC9','PC10'])\n",
    "array = array.reshape((array.size, 1))\n",
    "columns = columns.reshape((columns.size, 1))\n",
    "scree_data = np.concatenate((columns, array), axis=1)\n",
    "\n",
    "# np.savetxt(\"scree-plot-data.csv\", scree_data, delimiter=\",\",fmt='%.10s',header='PC,variance')\n"
   ]
  }
 ],
 "metadata": {
  "kernelspec": {
   "display_name": "Python 3",
   "language": "python",
   "name": "python3"
  },
  "language_info": {
   "codemirror_mode": {
    "name": "ipython",
    "version": 3
   },
   "file_extension": ".py",
   "mimetype": "text/x-python",
   "name": "python",
   "nbconvert_exporter": "python",
   "pygments_lexer": "ipython3",
   "version": "3.8.8"
  }
 },
 "nbformat": 4,
 "nbformat_minor": 5
}
